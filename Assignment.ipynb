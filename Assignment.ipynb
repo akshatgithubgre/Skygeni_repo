{
 "cells": [
  {
   "cell_type": "markdown",
   "id": "acced0a2",
   "metadata": {},
   "source": [
    "Importing the data from the drive"
   ]
  },
  {
   "cell_type": "code",
   "execution_count": 72,
   "id": "69c93ff6",
   "metadata": {},
   "outputs": [],
   "source": [
    "import pandas as pd"
   ]
  },
  {
   "cell_type": "code",
   "execution_count": 73,
   "id": "693d773b",
   "metadata": {},
   "outputs": [],
   "source": [
    "financial_information=pd.read_csv('finanical_information.csv')\n",
    "payment_information=pd.read_csv('payment_information.csv')\n",
    "subscription_information=pd.read_csv('subscription_information.csv')\n",
    "industry_client_details=pd.read_csv('industry_client_details.csv')"
   ]
  },
  {
   "cell_type": "markdown",
   "id": "a7a5b383",
   "metadata": {},
   "source": [
    "# Problem 1"
   ]
  },
  {
   "cell_type": "markdown",
   "id": "82466f08",
   "metadata": {},
   "source": [
    "#### How many finance lending and blockchain clients does the organization have?"
   ]
  },
  {
   "cell_type": "code",
   "execution_count": 74,
   "id": "06ea2027",
   "metadata": {},
   "outputs": [
    {
     "name": "stdout",
     "output_type": "stream",
     "text": [
      "Number of clients in financial lengind and blockchain industry are:\n"
     ]
    }
   ],
   "source": [
    "print(\"Number of clients in financial lengind and blockchain industry are:\")"
   ]
  },
  {
   "cell_type": "code",
   "execution_count": 75,
   "id": "5869a9ad",
   "metadata": {},
   "outputs": [],
   "source": [
    "group_similar_industry_clients=industry_client_details.groupby('industry')\n",
    "# grouping client belonging to same industry"
   ]
  },
  {
   "cell_type": "code",
   "execution_count": 76,
   "id": "23fa0841",
   "metadata": {},
   "outputs": [],
   "source": [
    "count_unique_clients=group_similar_industry_clients['client_id'].nunique()\n",
    "# counting unique clients only by referring to their respective client id"
   ]
  },
  {
   "cell_type": "code",
   "execution_count": 77,
   "id": "0d967b0a",
   "metadata": {},
   "outputs": [],
   "source": [
    "clients_of_the_industry=count_unique_clients.loc[['Block Chain','Finance Lending']]\n",
    "# filtering out the clients which only belong to industry of block chain and financial lending"
   ]
  },
  {
   "cell_type": "code",
   "execution_count": 78,
   "id": "8c0e6aed",
   "metadata": {},
   "outputs": [
    {
     "name": "stdout",
     "output_type": "stream",
     "text": [
      "industry\n",
      "Block Chain        25\n",
      "Finance Lending    22\n",
      "Name: client_id, dtype: int64\n"
     ]
    }
   ],
   "source": [
    "print(clients_of_the_industry)"
   ]
  },
  {
   "cell_type": "markdown",
   "id": "a44c5a02",
   "metadata": {},
   "source": [
    "# Problem 2"
   ]
  },
  {
   "cell_type": "markdown",
   "id": "db821ea9",
   "metadata": {},
   "source": [
    "#### Which industry in the organization has the highest renewal rate?\n"
   ]
  },
  {
   "cell_type": "markdown",
   "id": "ec68f7fd",
   "metadata": {},
   "source": [
    "solution approach:\n",
    "\n",
    "to find the highest renewal rate we need to find number of renewals made organization/industry wise and based on it we will find individual renewal rate per organization"
   ]
  },
  {
   "cell_type": "markdown",
   "id": "272c4634",
   "metadata": {},
   "source": [
    "in the ouput we need to show the industry name which we can fetch from the table industry_client_details and we also need to calculate the renewal rate which we can fetch from the subscription_information table"
   ]
  },
  {
   "cell_type": "markdown",
   "id": "45fd39ea",
   "metadata": {},
   "source": [
    "we need to merge these two tables inorder to display the final result"
   ]
  },
  {
   "cell_type": "code",
   "execution_count": 79,
   "id": "17c9def8",
   "metadata": {},
   "outputs": [],
   "source": [
    "subscription_with_industry=pd.merge(subscription_information,industry_client_details,on='client_id',how='left')\n",
    "# merged on basis of primary key of client_id and it is the common column of both the tables"
   ]
  },
  {
   "cell_type": "code",
   "execution_count": 80,
   "id": "7710c914",
   "metadata": {},
   "outputs": [
    {
     "data": {
      "text/plain": [
       "client_id             int64\n",
       "subscription_type    object\n",
       "start_date           object\n",
       "end_date             object\n",
       "renewed                bool\n",
       "company_size         object\n",
       "industry             object\n",
       "location             object\n",
       "dtype: object"
      ]
     },
     "execution_count": 80,
     "metadata": {},
     "output_type": "execute_result"
    }
   ],
   "source": [
    "subscription_with_industry.dtypes"
   ]
  },
  {
   "cell_type": "code",
   "execution_count": 81,
   "id": "cd5f02b6",
   "metadata": {},
   "outputs": [
    {
     "data": {
      "text/plain": [
       "array([False,  True])"
      ]
     },
     "execution_count": 81,
     "metadata": {},
     "output_type": "execute_result"
    }
   ],
   "source": [
    "subscription_with_industry['renewed'].unique()"
   ]
  },
  {
   "cell_type": "markdown",
   "id": "fd3c7b2f",
   "metadata": {},
   "source": [
    "Now we need to group the rows on basis of  industry"
   ]
  },
  {
   "cell_type": "code",
   "execution_count": 82,
   "id": "eb96e5f5",
   "metadata": {},
   "outputs": [],
   "source": [
    "group_industry=subscription_with_industry.groupby('industry')"
   ]
  },
  {
   "cell_type": "markdown",
   "id": "71184ee2",
   "metadata": {},
   "source": [
    "count number of renewals made"
   ]
  },
  {
   "cell_type": "code",
   "execution_count": 83,
   "id": "91c0b796",
   "metadata": {},
   "outputs": [],
   "source": [
    "total_client=group_industry['client_id'].count()"
   ]
  },
  {
   "cell_type": "code",
   "execution_count": 84,
   "id": "e7ff0a80",
   "metadata": {},
   "outputs": [
    {
     "data": {
      "text/plain": [
       "industry\n",
       "AI                 11\n",
       "Block Chain        25\n",
       "Finance Lending    22\n",
       "Gaming             22\n",
       "Hyper Local        20\n",
       "Name: client_id, dtype: int64"
      ]
     },
     "execution_count": 84,
     "metadata": {},
     "output_type": "execute_result"
    }
   ],
   "source": [
    "total_client"
   ]
  },
  {
   "cell_type": "code",
   "execution_count": 85,
   "id": "c47f6878",
   "metadata": {},
   "outputs": [],
   "source": [
    "total_renewals=group_industry['renewed'].sum()"
   ]
  },
  {
   "cell_type": "code",
   "execution_count": 86,
   "id": "bb6a3cac",
   "metadata": {},
   "outputs": [
    {
     "data": {
      "text/plain": [
       "industry\n",
       "AI                  7\n",
       "Block Chain        11\n",
       "Finance Lending    12\n",
       "Gaming             16\n",
       "Hyper Local         9\n",
       "Name: renewed, dtype: int64"
      ]
     },
     "execution_count": 86,
     "metadata": {},
     "output_type": "execute_result"
    }
   ],
   "source": [
    "total_renewals"
   ]
  },
  {
   "cell_type": "markdown",
   "id": "c716a2e8",
   "metadata": {},
   "source": [
    "Now we can find the renewal rate"
   ]
  },
  {
   "cell_type": "code",
   "execution_count": 87,
   "id": "4321e21c",
   "metadata": {},
   "outputs": [],
   "source": [
    "industry=pd.DataFrame({'total_client':total_client,'renewals':total_renewals})"
   ]
  },
  {
   "cell_type": "code",
   "execution_count": 88,
   "id": "23b8b61f",
   "metadata": {},
   "outputs": [],
   "source": [
    "industry['renewal_rate']=industry['renewals']/industry['total_client']"
   ]
  },
  {
   "cell_type": "code",
   "execution_count": 89,
   "id": "58cac4f4",
   "metadata": {},
   "outputs": [
    {
     "data": {
      "application/vnd.microsoft.datawrangler.viewer.v0+json": {
       "columns": [
        {
         "name": "industry",
         "rawType": "object",
         "type": "string"
        },
        {
         "name": "total_client",
         "rawType": "int64",
         "type": "integer"
        },
        {
         "name": "renewals",
         "rawType": "int64",
         "type": "integer"
        },
        {
         "name": "renewal_rate",
         "rawType": "float64",
         "type": "float"
        }
       ],
       "conversionMethod": "pd.DataFrame",
       "ref": "a787175a-fc10-4615-821d-84e2c4738987",
       "rows": [
        [
         "AI",
         "11",
         "7",
         "0.6363636363636364"
        ],
        [
         "Block Chain",
         "25",
         "11",
         "0.44"
        ],
        [
         "Finance Lending",
         "22",
         "12",
         "0.5454545454545454"
        ],
        [
         "Gaming",
         "22",
         "16",
         "0.7272727272727273"
        ],
        [
         "Hyper Local",
         "20",
         "9",
         "0.45"
        ]
       ],
       "shape": {
        "columns": 3,
        "rows": 5
       }
      },
      "text/html": [
       "<div>\n",
       "<style scoped>\n",
       "    .dataframe tbody tr th:only-of-type {\n",
       "        vertical-align: middle;\n",
       "    }\n",
       "\n",
       "    .dataframe tbody tr th {\n",
       "        vertical-align: top;\n",
       "    }\n",
       "\n",
       "    .dataframe thead th {\n",
       "        text-align: right;\n",
       "    }\n",
       "</style>\n",
       "<table border=\"1\" class=\"dataframe\">\n",
       "  <thead>\n",
       "    <tr style=\"text-align: right;\">\n",
       "      <th></th>\n",
       "      <th>total_client</th>\n",
       "      <th>renewals</th>\n",
       "      <th>renewal_rate</th>\n",
       "    </tr>\n",
       "    <tr>\n",
       "      <th>industry</th>\n",
       "      <th></th>\n",
       "      <th></th>\n",
       "      <th></th>\n",
       "    </tr>\n",
       "  </thead>\n",
       "  <tbody>\n",
       "    <tr>\n",
       "      <th>AI</th>\n",
       "      <td>11</td>\n",
       "      <td>7</td>\n",
       "      <td>0.636364</td>\n",
       "    </tr>\n",
       "    <tr>\n",
       "      <th>Block Chain</th>\n",
       "      <td>25</td>\n",
       "      <td>11</td>\n",
       "      <td>0.440000</td>\n",
       "    </tr>\n",
       "    <tr>\n",
       "      <th>Finance Lending</th>\n",
       "      <td>22</td>\n",
       "      <td>12</td>\n",
       "      <td>0.545455</td>\n",
       "    </tr>\n",
       "    <tr>\n",
       "      <th>Gaming</th>\n",
       "      <td>22</td>\n",
       "      <td>16</td>\n",
       "      <td>0.727273</td>\n",
       "    </tr>\n",
       "    <tr>\n",
       "      <th>Hyper Local</th>\n",
       "      <td>20</td>\n",
       "      <td>9</td>\n",
       "      <td>0.450000</td>\n",
       "    </tr>\n",
       "  </tbody>\n",
       "</table>\n",
       "</div>"
      ],
      "text/plain": [
       "                 total_client  renewals  renewal_rate\n",
       "industry                                             \n",
       "AI                         11         7      0.636364\n",
       "Block Chain                25        11      0.440000\n",
       "Finance Lending            22        12      0.545455\n",
       "Gaming                     22        16      0.727273\n",
       "Hyper Local                20         9      0.450000"
      ]
     },
     "execution_count": 89,
     "metadata": {},
     "output_type": "execute_result"
    }
   ],
   "source": [
    "industry"
   ]
  },
  {
   "cell_type": "markdown",
   "id": "630f26fb",
   "metadata": {},
   "source": [
    "# Problem 3"
   ]
  },
  {
   "cell_type": "markdown",
   "id": "84314be5",
   "metadata": {},
   "source": [
    "#### What was the average inflation rate when their subscriptions were renewed?"
   ]
  },
  {
   "cell_type": "markdown",
   "id": "c65ce4a6",
   "metadata": {},
   "source": [
    "solution approach: \n",
    "\n",
    "we can take the required information by comparing the dates  in the financial_information table with the subscription_information table when client was doing the subscription"
   ]
  },
  {
   "cell_type": "markdown",
   "id": "7e23a56d",
   "metadata": {},
   "source": [
    "for that we need to filter the clients who have renewed"
   ]
  },
  {
   "cell_type": "code",
   "execution_count": 90,
   "id": "afed490b",
   "metadata": {},
   "outputs": [],
   "source": [
    "renewed_clients=subscription_information[subscription_information['renewed']==True]"
   ]
  },
  {
   "cell_type": "code",
   "execution_count": 91,
   "id": "3e1b7bee",
   "metadata": {},
   "outputs": [
    {
     "data": {
      "application/vnd.microsoft.datawrangler.viewer.v0+json": {
       "columns": [
        {
         "name": "index",
         "rawType": "int64",
         "type": "integer"
        },
        {
         "name": "client_id",
         "rawType": "int64",
         "type": "integer"
        },
        {
         "name": "subscription_type",
         "rawType": "object",
         "type": "string"
        },
        {
         "name": "start_date",
         "rawType": "object",
         "type": "string"
        },
        {
         "name": "end_date",
         "rawType": "object",
         "type": "string"
        },
        {
         "name": "renewed",
         "rawType": "bool",
         "type": "boolean"
        }
       ],
       "conversionMethod": "pd.DataFrame",
       "ref": "8c4b342a-1f43-4b22-95ca-8c919a2b678e",
       "rows": [
        [
         "1",
         "4309371709",
         "Monthly",
         "2021-05-24",
         "2021-06-23",
         "True"
        ],
        [
         "2",
         "3183675157",
         "Yearly",
         "2021-12-25",
         "2022-12-25",
         "True"
        ],
        [
         "3",
         "5371694837",
         "Monthly",
         "2020-03-14",
         "2020-04-13",
         "True"
        ],
        [
         "5",
         "7896208406",
         "Yearly",
         "2022-02-24",
         "2023-02-24",
         "True"
        ],
        [
         "6",
         "4687291312",
         "Yearly",
         "2019-06-14",
         "2020-06-13",
         "True"
        ],
        [
         "7",
         "7744303708",
         "Yearly",
         "2022-10-11",
         "2023-10-11",
         "True"
        ],
        [
         "8",
         "6038028440",
         "Yearly",
         "2018-12-03",
         "2019-12-03",
         "True"
        ],
        [
         "9",
         "6955217420",
         "Monthly",
         "2019-07-07",
         "2019-08-06",
         "True"
        ],
        [
         "11",
         "6209923307",
         "Monthly",
         "2021-07-05",
         "2021-08-04",
         "True"
        ],
        [
         "14",
         "4280387012",
         "Yearly",
         "2022-11-25",
         "2023-11-25",
         "True"
        ],
        [
         "15",
         "5980553707",
         "Yearly",
         "2021-08-30",
         "2022-08-30",
         "True"
        ],
        [
         "22",
         "6751372012",
         "Monthly",
         "2018-05-29",
         "2018-06-28",
         "True"
        ],
        [
         "23",
         "5217987067",
         "Monthly",
         "2019-07-19",
         "2019-08-18",
         "True"
        ],
        [
         "26",
         "5536015034",
         "Monthly",
         "2019-11-15",
         "2019-12-15",
         "True"
        ],
        [
         "27",
         "8155233099",
         "Monthly",
         "2020-06-03",
         "2020-07-03",
         "True"
        ],
        [
         "28",
         "4194777577",
         "Monthly",
         "2021-12-18",
         "2022-01-17",
         "True"
        ],
        [
         "29",
         "9699223737",
         "Yearly",
         "2018-04-03",
         "2019-04-03",
         "True"
        ],
        [
         "33",
         "7462725203",
         "Monthly",
         "2018-05-21",
         "2018-06-20",
         "True"
        ],
        [
         "35",
         "5443254615",
         "Yearly",
         "2020-06-25",
         "2021-06-25",
         "True"
        ],
        [
         "38",
         "2490056820",
         "Monthly",
         "2020-04-04",
         "2020-05-04",
         "True"
        ],
        [
         "39",
         "4760390973",
         "Yearly",
         "2022-01-06",
         "2023-01-06",
         "True"
        ],
        [
         "41",
         "8988409533",
         "Yearly",
         "2020-05-15",
         "2021-05-15",
         "True"
        ],
        [
         "42",
         "5762095219",
         "Monthly",
         "2021-06-02",
         "2021-07-02",
         "True"
        ],
        [
         "43",
         "7776577102",
         "Monthly",
         "2020-12-17",
         "2021-01-16",
         "True"
        ],
        [
         "44",
         "6366816003",
         "Monthly",
         "2022-02-17",
         "2022-03-19",
         "True"
        ],
        [
         "45",
         "3325348894",
         "Monthly",
         "2019-07-09",
         "2019-08-08",
         "True"
        ],
        [
         "47",
         "5387264885",
         "Monthly",
         "2022-03-06",
         "2022-04-05",
         "True"
        ],
        [
         "49",
         "2609337231",
         "Monthly",
         "2020-11-04",
         "2020-12-04",
         "True"
        ],
        [
         "53",
         "3758633299",
         "Monthly",
         "2021-04-24",
         "2021-05-24",
         "True"
        ],
        [
         "55",
         "5983139564",
         "Yearly",
         "2020-03-29",
         "2021-03-29",
         "True"
        ],
        [
         "57",
         "9031632460",
         "Yearly",
         "2019-07-06",
         "2020-07-05",
         "True"
        ],
        [
         "60",
         "3185596104",
         "Monthly",
         "2022-11-14",
         "2022-12-14",
         "True"
        ],
        [
         "61",
         "7225516707",
         "Yearly",
         "2021-01-19",
         "2022-01-19",
         "True"
        ],
        [
         "64",
         "6774252233",
         "Monthly",
         "2018-12-12",
         "2019-01-11",
         "True"
        ],
        [
         "65",
         "3683504527",
         "Monthly",
         "2018-04-12",
         "2018-05-12",
         "True"
        ],
        [
         "66",
         "8207710174",
         "Monthly",
         "2018-12-19",
         "2019-01-18",
         "True"
        ],
        [
         "67",
         "8719792472",
         "Yearly",
         "2018-02-10",
         "2019-02-10",
         "True"
        ],
        [
         "69",
         "4343385571",
         "Yearly",
         "2018-11-28",
         "2019-11-28",
         "True"
        ],
        [
         "71",
         "1089413096",
         "Monthly",
         "2019-04-21",
         "2019-05-21",
         "True"
        ],
        [
         "72",
         "9329180414",
         "Monthly",
         "2021-06-03",
         "2021-07-03",
         "True"
        ],
        [
         "74",
         "2315920532",
         "Monthly",
         "2019-04-01",
         "2019-05-01",
         "True"
        ],
        [
         "76",
         "9626357024",
         "Monthly",
         "2022-09-25",
         "2022-10-25",
         "True"
        ],
        [
         "77",
         "3510240337",
         "Yearly",
         "2020-12-07",
         "2021-12-07",
         "True"
        ],
        [
         "81",
         "8884551090",
         "Yearly",
         "2022-09-02",
         "2023-09-02",
         "True"
        ],
        [
         "82",
         "5698091148",
         "Monthly",
         "2020-08-04",
         "2020-09-03",
         "True"
        ],
        [
         "85",
         "7465144773",
         "Monthly",
         "2021-09-07",
         "2021-10-07",
         "True"
        ],
        [
         "87",
         "1298566280",
         "Yearly",
         "2019-09-01",
         "2020-08-31",
         "True"
        ],
        [
         "89",
         "8004867726",
         "Monthly",
         "2019-06-16",
         "2019-07-16",
         "True"
        ],
        [
         "90",
         "6292156167",
         "Yearly",
         "2019-09-16",
         "2020-09-15",
         "True"
        ],
        [
         "93",
         "9842414729",
         "Monthly",
         "2022-11-11",
         "2022-12-11",
         "True"
        ]
       ],
       "shape": {
        "columns": 5,
        "rows": 55
       }
      },
      "text/html": [
       "<div>\n",
       "<style scoped>\n",
       "    .dataframe tbody tr th:only-of-type {\n",
       "        vertical-align: middle;\n",
       "    }\n",
       "\n",
       "    .dataframe tbody tr th {\n",
       "        vertical-align: top;\n",
       "    }\n",
       "\n",
       "    .dataframe thead th {\n",
       "        text-align: right;\n",
       "    }\n",
       "</style>\n",
       "<table border=\"1\" class=\"dataframe\">\n",
       "  <thead>\n",
       "    <tr style=\"text-align: right;\">\n",
       "      <th></th>\n",
       "      <th>client_id</th>\n",
       "      <th>subscription_type</th>\n",
       "      <th>start_date</th>\n",
       "      <th>end_date</th>\n",
       "      <th>renewed</th>\n",
       "    </tr>\n",
       "  </thead>\n",
       "  <tbody>\n",
       "    <tr>\n",
       "      <th>1</th>\n",
       "      <td>4309371709</td>\n",
       "      <td>Monthly</td>\n",
       "      <td>2021-05-24</td>\n",
       "      <td>2021-06-23</td>\n",
       "      <td>True</td>\n",
       "    </tr>\n",
       "    <tr>\n",
       "      <th>2</th>\n",
       "      <td>3183675157</td>\n",
       "      <td>Yearly</td>\n",
       "      <td>2021-12-25</td>\n",
       "      <td>2022-12-25</td>\n",
       "      <td>True</td>\n",
       "    </tr>\n",
       "    <tr>\n",
       "      <th>3</th>\n",
       "      <td>5371694837</td>\n",
       "      <td>Monthly</td>\n",
       "      <td>2020-03-14</td>\n",
       "      <td>2020-04-13</td>\n",
       "      <td>True</td>\n",
       "    </tr>\n",
       "    <tr>\n",
       "      <th>5</th>\n",
       "      <td>7896208406</td>\n",
       "      <td>Yearly</td>\n",
       "      <td>2022-02-24</td>\n",
       "      <td>2023-02-24</td>\n",
       "      <td>True</td>\n",
       "    </tr>\n",
       "    <tr>\n",
       "      <th>6</th>\n",
       "      <td>4687291312</td>\n",
       "      <td>Yearly</td>\n",
       "      <td>2019-06-14</td>\n",
       "      <td>2020-06-13</td>\n",
       "      <td>True</td>\n",
       "    </tr>\n",
       "    <tr>\n",
       "      <th>7</th>\n",
       "      <td>7744303708</td>\n",
       "      <td>Yearly</td>\n",
       "      <td>2022-10-11</td>\n",
       "      <td>2023-10-11</td>\n",
       "      <td>True</td>\n",
       "    </tr>\n",
       "    <tr>\n",
       "      <th>8</th>\n",
       "      <td>6038028440</td>\n",
       "      <td>Yearly</td>\n",
       "      <td>2018-12-03</td>\n",
       "      <td>2019-12-03</td>\n",
       "      <td>True</td>\n",
       "    </tr>\n",
       "    <tr>\n",
       "      <th>9</th>\n",
       "      <td>6955217420</td>\n",
       "      <td>Monthly</td>\n",
       "      <td>2019-07-07</td>\n",
       "      <td>2019-08-06</td>\n",
       "      <td>True</td>\n",
       "    </tr>\n",
       "    <tr>\n",
       "      <th>11</th>\n",
       "      <td>6209923307</td>\n",
       "      <td>Monthly</td>\n",
       "      <td>2021-07-05</td>\n",
       "      <td>2021-08-04</td>\n",
       "      <td>True</td>\n",
       "    </tr>\n",
       "    <tr>\n",
       "      <th>14</th>\n",
       "      <td>4280387012</td>\n",
       "      <td>Yearly</td>\n",
       "      <td>2022-11-25</td>\n",
       "      <td>2023-11-25</td>\n",
       "      <td>True</td>\n",
       "    </tr>\n",
       "    <tr>\n",
       "      <th>15</th>\n",
       "      <td>5980553707</td>\n",
       "      <td>Yearly</td>\n",
       "      <td>2021-08-30</td>\n",
       "      <td>2022-08-30</td>\n",
       "      <td>True</td>\n",
       "    </tr>\n",
       "    <tr>\n",
       "      <th>22</th>\n",
       "      <td>6751372012</td>\n",
       "      <td>Monthly</td>\n",
       "      <td>2018-05-29</td>\n",
       "      <td>2018-06-28</td>\n",
       "      <td>True</td>\n",
       "    </tr>\n",
       "    <tr>\n",
       "      <th>23</th>\n",
       "      <td>5217987067</td>\n",
       "      <td>Monthly</td>\n",
       "      <td>2019-07-19</td>\n",
       "      <td>2019-08-18</td>\n",
       "      <td>True</td>\n",
       "    </tr>\n",
       "    <tr>\n",
       "      <th>26</th>\n",
       "      <td>5536015034</td>\n",
       "      <td>Monthly</td>\n",
       "      <td>2019-11-15</td>\n",
       "      <td>2019-12-15</td>\n",
       "      <td>True</td>\n",
       "    </tr>\n",
       "    <tr>\n",
       "      <th>27</th>\n",
       "      <td>8155233099</td>\n",
       "      <td>Monthly</td>\n",
       "      <td>2020-06-03</td>\n",
       "      <td>2020-07-03</td>\n",
       "      <td>True</td>\n",
       "    </tr>\n",
       "    <tr>\n",
       "      <th>28</th>\n",
       "      <td>4194777577</td>\n",
       "      <td>Monthly</td>\n",
       "      <td>2021-12-18</td>\n",
       "      <td>2022-01-17</td>\n",
       "      <td>True</td>\n",
       "    </tr>\n",
       "    <tr>\n",
       "      <th>29</th>\n",
       "      <td>9699223737</td>\n",
       "      <td>Yearly</td>\n",
       "      <td>2018-04-03</td>\n",
       "      <td>2019-04-03</td>\n",
       "      <td>True</td>\n",
       "    </tr>\n",
       "    <tr>\n",
       "      <th>33</th>\n",
       "      <td>7462725203</td>\n",
       "      <td>Monthly</td>\n",
       "      <td>2018-05-21</td>\n",
       "      <td>2018-06-20</td>\n",
       "      <td>True</td>\n",
       "    </tr>\n",
       "    <tr>\n",
       "      <th>35</th>\n",
       "      <td>5443254615</td>\n",
       "      <td>Yearly</td>\n",
       "      <td>2020-06-25</td>\n",
       "      <td>2021-06-25</td>\n",
       "      <td>True</td>\n",
       "    </tr>\n",
       "    <tr>\n",
       "      <th>38</th>\n",
       "      <td>2490056820</td>\n",
       "      <td>Monthly</td>\n",
       "      <td>2020-04-04</td>\n",
       "      <td>2020-05-04</td>\n",
       "      <td>True</td>\n",
       "    </tr>\n",
       "    <tr>\n",
       "      <th>39</th>\n",
       "      <td>4760390973</td>\n",
       "      <td>Yearly</td>\n",
       "      <td>2022-01-06</td>\n",
       "      <td>2023-01-06</td>\n",
       "      <td>True</td>\n",
       "    </tr>\n",
       "    <tr>\n",
       "      <th>41</th>\n",
       "      <td>8988409533</td>\n",
       "      <td>Yearly</td>\n",
       "      <td>2020-05-15</td>\n",
       "      <td>2021-05-15</td>\n",
       "      <td>True</td>\n",
       "    </tr>\n",
       "    <tr>\n",
       "      <th>42</th>\n",
       "      <td>5762095219</td>\n",
       "      <td>Monthly</td>\n",
       "      <td>2021-06-02</td>\n",
       "      <td>2021-07-02</td>\n",
       "      <td>True</td>\n",
       "    </tr>\n",
       "    <tr>\n",
       "      <th>43</th>\n",
       "      <td>7776577102</td>\n",
       "      <td>Monthly</td>\n",
       "      <td>2020-12-17</td>\n",
       "      <td>2021-01-16</td>\n",
       "      <td>True</td>\n",
       "    </tr>\n",
       "    <tr>\n",
       "      <th>44</th>\n",
       "      <td>6366816003</td>\n",
       "      <td>Monthly</td>\n",
       "      <td>2022-02-17</td>\n",
       "      <td>2022-03-19</td>\n",
       "      <td>True</td>\n",
       "    </tr>\n",
       "    <tr>\n",
       "      <th>45</th>\n",
       "      <td>3325348894</td>\n",
       "      <td>Monthly</td>\n",
       "      <td>2019-07-09</td>\n",
       "      <td>2019-08-08</td>\n",
       "      <td>True</td>\n",
       "    </tr>\n",
       "    <tr>\n",
       "      <th>47</th>\n",
       "      <td>5387264885</td>\n",
       "      <td>Monthly</td>\n",
       "      <td>2022-03-06</td>\n",
       "      <td>2022-04-05</td>\n",
       "      <td>True</td>\n",
       "    </tr>\n",
       "    <tr>\n",
       "      <th>49</th>\n",
       "      <td>2609337231</td>\n",
       "      <td>Monthly</td>\n",
       "      <td>2020-11-04</td>\n",
       "      <td>2020-12-04</td>\n",
       "      <td>True</td>\n",
       "    </tr>\n",
       "    <tr>\n",
       "      <th>53</th>\n",
       "      <td>3758633299</td>\n",
       "      <td>Monthly</td>\n",
       "      <td>2021-04-24</td>\n",
       "      <td>2021-05-24</td>\n",
       "      <td>True</td>\n",
       "    </tr>\n",
       "    <tr>\n",
       "      <th>55</th>\n",
       "      <td>5983139564</td>\n",
       "      <td>Yearly</td>\n",
       "      <td>2020-03-29</td>\n",
       "      <td>2021-03-29</td>\n",
       "      <td>True</td>\n",
       "    </tr>\n",
       "    <tr>\n",
       "      <th>57</th>\n",
       "      <td>9031632460</td>\n",
       "      <td>Yearly</td>\n",
       "      <td>2019-07-06</td>\n",
       "      <td>2020-07-05</td>\n",
       "      <td>True</td>\n",
       "    </tr>\n",
       "    <tr>\n",
       "      <th>60</th>\n",
       "      <td>3185596104</td>\n",
       "      <td>Monthly</td>\n",
       "      <td>2022-11-14</td>\n",
       "      <td>2022-12-14</td>\n",
       "      <td>True</td>\n",
       "    </tr>\n",
       "    <tr>\n",
       "      <th>61</th>\n",
       "      <td>7225516707</td>\n",
       "      <td>Yearly</td>\n",
       "      <td>2021-01-19</td>\n",
       "      <td>2022-01-19</td>\n",
       "      <td>True</td>\n",
       "    </tr>\n",
       "    <tr>\n",
       "      <th>64</th>\n",
       "      <td>6774252233</td>\n",
       "      <td>Monthly</td>\n",
       "      <td>2018-12-12</td>\n",
       "      <td>2019-01-11</td>\n",
       "      <td>True</td>\n",
       "    </tr>\n",
       "    <tr>\n",
       "      <th>65</th>\n",
       "      <td>3683504527</td>\n",
       "      <td>Monthly</td>\n",
       "      <td>2018-04-12</td>\n",
       "      <td>2018-05-12</td>\n",
       "      <td>True</td>\n",
       "    </tr>\n",
       "    <tr>\n",
       "      <th>66</th>\n",
       "      <td>8207710174</td>\n",
       "      <td>Monthly</td>\n",
       "      <td>2018-12-19</td>\n",
       "      <td>2019-01-18</td>\n",
       "      <td>True</td>\n",
       "    </tr>\n",
       "    <tr>\n",
       "      <th>67</th>\n",
       "      <td>8719792472</td>\n",
       "      <td>Yearly</td>\n",
       "      <td>2018-02-10</td>\n",
       "      <td>2019-02-10</td>\n",
       "      <td>True</td>\n",
       "    </tr>\n",
       "    <tr>\n",
       "      <th>69</th>\n",
       "      <td>4343385571</td>\n",
       "      <td>Yearly</td>\n",
       "      <td>2018-11-28</td>\n",
       "      <td>2019-11-28</td>\n",
       "      <td>True</td>\n",
       "    </tr>\n",
       "    <tr>\n",
       "      <th>71</th>\n",
       "      <td>1089413096</td>\n",
       "      <td>Monthly</td>\n",
       "      <td>2019-04-21</td>\n",
       "      <td>2019-05-21</td>\n",
       "      <td>True</td>\n",
       "    </tr>\n",
       "    <tr>\n",
       "      <th>72</th>\n",
       "      <td>9329180414</td>\n",
       "      <td>Monthly</td>\n",
       "      <td>2021-06-03</td>\n",
       "      <td>2021-07-03</td>\n",
       "      <td>True</td>\n",
       "    </tr>\n",
       "    <tr>\n",
       "      <th>74</th>\n",
       "      <td>2315920532</td>\n",
       "      <td>Monthly</td>\n",
       "      <td>2019-04-01</td>\n",
       "      <td>2019-05-01</td>\n",
       "      <td>True</td>\n",
       "    </tr>\n",
       "    <tr>\n",
       "      <th>76</th>\n",
       "      <td>9626357024</td>\n",
       "      <td>Monthly</td>\n",
       "      <td>2022-09-25</td>\n",
       "      <td>2022-10-25</td>\n",
       "      <td>True</td>\n",
       "    </tr>\n",
       "    <tr>\n",
       "      <th>77</th>\n",
       "      <td>3510240337</td>\n",
       "      <td>Yearly</td>\n",
       "      <td>2020-12-07</td>\n",
       "      <td>2021-12-07</td>\n",
       "      <td>True</td>\n",
       "    </tr>\n",
       "    <tr>\n",
       "      <th>81</th>\n",
       "      <td>8884551090</td>\n",
       "      <td>Yearly</td>\n",
       "      <td>2022-09-02</td>\n",
       "      <td>2023-09-02</td>\n",
       "      <td>True</td>\n",
       "    </tr>\n",
       "    <tr>\n",
       "      <th>82</th>\n",
       "      <td>5698091148</td>\n",
       "      <td>Monthly</td>\n",
       "      <td>2020-08-04</td>\n",
       "      <td>2020-09-03</td>\n",
       "      <td>True</td>\n",
       "    </tr>\n",
       "    <tr>\n",
       "      <th>85</th>\n",
       "      <td>7465144773</td>\n",
       "      <td>Monthly</td>\n",
       "      <td>2021-09-07</td>\n",
       "      <td>2021-10-07</td>\n",
       "      <td>True</td>\n",
       "    </tr>\n",
       "    <tr>\n",
       "      <th>87</th>\n",
       "      <td>1298566280</td>\n",
       "      <td>Yearly</td>\n",
       "      <td>2019-09-01</td>\n",
       "      <td>2020-08-31</td>\n",
       "      <td>True</td>\n",
       "    </tr>\n",
       "    <tr>\n",
       "      <th>89</th>\n",
       "      <td>8004867726</td>\n",
       "      <td>Monthly</td>\n",
       "      <td>2019-06-16</td>\n",
       "      <td>2019-07-16</td>\n",
       "      <td>True</td>\n",
       "    </tr>\n",
       "    <tr>\n",
       "      <th>90</th>\n",
       "      <td>6292156167</td>\n",
       "      <td>Yearly</td>\n",
       "      <td>2019-09-16</td>\n",
       "      <td>2020-09-15</td>\n",
       "      <td>True</td>\n",
       "    </tr>\n",
       "    <tr>\n",
       "      <th>93</th>\n",
       "      <td>9842414729</td>\n",
       "      <td>Monthly</td>\n",
       "      <td>2022-11-11</td>\n",
       "      <td>2022-12-11</td>\n",
       "      <td>True</td>\n",
       "    </tr>\n",
       "    <tr>\n",
       "      <th>95</th>\n",
       "      <td>4519356806</td>\n",
       "      <td>Monthly</td>\n",
       "      <td>2018-03-04</td>\n",
       "      <td>2018-04-03</td>\n",
       "      <td>True</td>\n",
       "    </tr>\n",
       "    <tr>\n",
       "      <th>96</th>\n",
       "      <td>9714663815</td>\n",
       "      <td>Monthly</td>\n",
       "      <td>2020-11-11</td>\n",
       "      <td>2020-12-11</td>\n",
       "      <td>True</td>\n",
       "    </tr>\n",
       "    <tr>\n",
       "      <th>97</th>\n",
       "      <td>9598980006</td>\n",
       "      <td>Monthly</td>\n",
       "      <td>2019-06-16</td>\n",
       "      <td>2019-07-16</td>\n",
       "      <td>True</td>\n",
       "    </tr>\n",
       "    <tr>\n",
       "      <th>98</th>\n",
       "      <td>3157098196</td>\n",
       "      <td>Monthly</td>\n",
       "      <td>2021-11-11</td>\n",
       "      <td>2021-12-11</td>\n",
       "      <td>True</td>\n",
       "    </tr>\n",
       "    <tr>\n",
       "      <th>99</th>\n",
       "      <td>8540187780</td>\n",
       "      <td>Monthly</td>\n",
       "      <td>2021-02-16</td>\n",
       "      <td>2021-03-18</td>\n",
       "      <td>True</td>\n",
       "    </tr>\n",
       "  </tbody>\n",
       "</table>\n",
       "</div>"
      ],
      "text/plain": [
       "     client_id subscription_type  start_date    end_date  renewed\n",
       "1   4309371709           Monthly  2021-05-24  2021-06-23     True\n",
       "2   3183675157            Yearly  2021-12-25  2022-12-25     True\n",
       "3   5371694837           Monthly  2020-03-14  2020-04-13     True\n",
       "5   7896208406            Yearly  2022-02-24  2023-02-24     True\n",
       "6   4687291312            Yearly  2019-06-14  2020-06-13     True\n",
       "7   7744303708            Yearly  2022-10-11  2023-10-11     True\n",
       "8   6038028440            Yearly  2018-12-03  2019-12-03     True\n",
       "9   6955217420           Monthly  2019-07-07  2019-08-06     True\n",
       "11  6209923307           Monthly  2021-07-05  2021-08-04     True\n",
       "14  4280387012            Yearly  2022-11-25  2023-11-25     True\n",
       "15  5980553707            Yearly  2021-08-30  2022-08-30     True\n",
       "22  6751372012           Monthly  2018-05-29  2018-06-28     True\n",
       "23  5217987067           Monthly  2019-07-19  2019-08-18     True\n",
       "26  5536015034           Monthly  2019-11-15  2019-12-15     True\n",
       "27  8155233099           Monthly  2020-06-03  2020-07-03     True\n",
       "28  4194777577           Monthly  2021-12-18  2022-01-17     True\n",
       "29  9699223737            Yearly  2018-04-03  2019-04-03     True\n",
       "33  7462725203           Monthly  2018-05-21  2018-06-20     True\n",
       "35  5443254615            Yearly  2020-06-25  2021-06-25     True\n",
       "38  2490056820           Monthly  2020-04-04  2020-05-04     True\n",
       "39  4760390973            Yearly  2022-01-06  2023-01-06     True\n",
       "41  8988409533            Yearly  2020-05-15  2021-05-15     True\n",
       "42  5762095219           Monthly  2021-06-02  2021-07-02     True\n",
       "43  7776577102           Monthly  2020-12-17  2021-01-16     True\n",
       "44  6366816003           Monthly  2022-02-17  2022-03-19     True\n",
       "45  3325348894           Monthly  2019-07-09  2019-08-08     True\n",
       "47  5387264885           Monthly  2022-03-06  2022-04-05     True\n",
       "49  2609337231           Monthly  2020-11-04  2020-12-04     True\n",
       "53  3758633299           Monthly  2021-04-24  2021-05-24     True\n",
       "55  5983139564            Yearly  2020-03-29  2021-03-29     True\n",
       "57  9031632460            Yearly  2019-07-06  2020-07-05     True\n",
       "60  3185596104           Monthly  2022-11-14  2022-12-14     True\n",
       "61  7225516707            Yearly  2021-01-19  2022-01-19     True\n",
       "64  6774252233           Monthly  2018-12-12  2019-01-11     True\n",
       "65  3683504527           Monthly  2018-04-12  2018-05-12     True\n",
       "66  8207710174           Monthly  2018-12-19  2019-01-18     True\n",
       "67  8719792472            Yearly  2018-02-10  2019-02-10     True\n",
       "69  4343385571            Yearly  2018-11-28  2019-11-28     True\n",
       "71  1089413096           Monthly  2019-04-21  2019-05-21     True\n",
       "72  9329180414           Monthly  2021-06-03  2021-07-03     True\n",
       "74  2315920532           Monthly  2019-04-01  2019-05-01     True\n",
       "76  9626357024           Monthly  2022-09-25  2022-10-25     True\n",
       "77  3510240337            Yearly  2020-12-07  2021-12-07     True\n",
       "81  8884551090            Yearly  2022-09-02  2023-09-02     True\n",
       "82  5698091148           Monthly  2020-08-04  2020-09-03     True\n",
       "85  7465144773           Monthly  2021-09-07  2021-10-07     True\n",
       "87  1298566280            Yearly  2019-09-01  2020-08-31     True\n",
       "89  8004867726           Monthly  2019-06-16  2019-07-16     True\n",
       "90  6292156167            Yearly  2019-09-16  2020-09-15     True\n",
       "93  9842414729           Monthly  2022-11-11  2022-12-11     True\n",
       "95  4519356806           Monthly  2018-03-04  2018-04-03     True\n",
       "96  9714663815           Monthly  2020-11-11  2020-12-11     True\n",
       "97  9598980006           Monthly  2019-06-16  2019-07-16     True\n",
       "98  3157098196           Monthly  2021-11-11  2021-12-11     True\n",
       "99  8540187780           Monthly  2021-02-16  2021-03-18     True"
      ]
     },
     "execution_count": 91,
     "metadata": {},
     "output_type": "execute_result"
    }
   ],
   "source": [
    "renewed_clients"
   ]
  },
  {
   "cell_type": "markdown",
   "id": "8a1a32ea",
   "metadata": {},
   "source": [
    "creatign a common column to join both tables"
   ]
  },
  {
   "cell_type": "code",
   "execution_count": null,
   "id": "7d2afe93",
   "metadata": {},
   "outputs": [
    {
     "name": "stderr",
     "output_type": "stream",
     "text": [
      "C:\\Users\\aksha\\AppData\\Local\\Temp\\ipykernel_13636\\662198193.py:1: SettingWithCopyWarning: \n",
      "A value is trying to be set on a copy of a slice from a DataFrame.\n",
      "Try using .loc[row_indexer,col_indexer] = value instead\n",
      "\n",
      "See the caveats in the documentation: https://pandas.pydata.org/pandas-docs/stable/user_guide/indexing.html#returning-a-view-versus-a-copy\n",
      "  renewed_clients['key']=1\n"
     ]
    }
   ],
   "source": [
    "renewed_clients['key']=1\n",
    "financial_information['key']=1"
   ]
  },
  {
   "cell_type": "code",
   "execution_count": 93,
   "id": "26c5e1cc",
   "metadata": {},
   "outputs": [],
   "source": [
    "table_join=pd.merge(renewed_clients,financial_information,on='key').drop('key',axis=1)"
   ]
  },
  {
   "cell_type": "markdown",
   "id": "75bf6767",
   "metadata": {},
   "source": [
    "joined both tables on basis of our common column"
   ]
  },
  {
   "cell_type": "code",
   "execution_count": 94,
   "id": "8bb05e83",
   "metadata": {},
   "outputs": [],
   "source": [
    "filter_row=table_join[(table_join['start_date_x']>=table_join['start_date_y'])&(table_join['start_date_x']<=table_join['end_date_y'])]"
   ]
  },
  {
   "cell_type": "code",
   "execution_count": 95,
   "id": "01b999be",
   "metadata": {},
   "outputs": [
    {
     "name": "stderr",
     "output_type": "stream",
     "text": [
      "C:\\Users\\aksha\\AppData\\Local\\Temp\\ipykernel_13636\\4042592179.py:1: SettingWithCopyWarning: \n",
      "A value is trying to be set on a copy of a slice from a DataFrame.\n",
      "Try using .loc[row_indexer,col_indexer] = value instead\n",
      "\n",
      "See the caveats in the documentation: https://pandas.pydata.org/pandas-docs/stable/user_guide/indexing.html#returning-a-view-versus-a-copy\n",
      "  filter_row['inflation_rate']=filter_row['inflation_rate']\n"
     ]
    }
   ],
   "source": [
    "filter_row['inflation_rate']=filter_row['inflation_rate']"
   ]
  },
  {
   "cell_type": "code",
   "execution_count": 96,
   "id": "4bb0a24e",
   "metadata": {},
   "outputs": [],
   "source": [
    "average_inflation_rate=filter_row.groupby('client_id')['inflation_rate'].mean()"
   ]
  },
  {
   "cell_type": "code",
   "execution_count": 97,
   "id": "084bbc5b",
   "metadata": {},
   "outputs": [
    {
     "data": {
      "text/plain": [
       "client_id\n",
       "1089413096    3.84\n",
       "1298566280    7.71\n",
       "2315920532    3.84\n",
       "2490056820    4.69\n",
       "2609337231    3.10\n",
       "3157098196    7.32\n",
       "3183675157    7.32\n",
       "3185596104    4.40\n",
       "3325348894    7.71\n",
       "3510240337    3.10\n",
       "3683504527    1.17\n",
       "3758633299    0.76\n",
       "4194777577    7.32\n",
       "4280387012    4.40\n",
       "4309371709    0.76\n",
       "4343385571    2.78\n",
       "4519356806    5.77\n",
       "4687291312    3.84\n",
       "4760390973    6.76\n",
       "5217987067    7.71\n",
       "5371694837    4.40\n",
       "5387264885    6.76\n",
       "5443254615    4.69\n",
       "5536015034    2.71\n",
       "5698091148    1.43\n",
       "5762095219    0.76\n",
       "5980553707    7.19\n",
       "5983139564    4.40\n",
       "6038028440    2.78\n",
       "6209923307    7.19\n",
       "6292156167    7.71\n",
       "6366816003    6.76\n",
       "6751372012    1.17\n",
       "6774252233    2.78\n",
       "6955217420    7.71\n",
       "7225516707    2.57\n",
       "7462725203    1.17\n",
       "7465144773    7.19\n",
       "7744303708    4.40\n",
       "7776577102    3.10\n",
       "7896208406    6.76\n",
       "8004867726    3.84\n",
       "8155233099    4.69\n",
       "8207710174    2.78\n",
       "8540187780    2.57\n",
       "8719792472    5.77\n",
       "8884551090    5.60\n",
       "8988409533    4.69\n",
       "9031632460    7.71\n",
       "9329180414    0.76\n",
       "9598980006    3.84\n",
       "9626357024    5.60\n",
       "9699223737    1.17\n",
       "9714663815    3.10\n",
       "9842414729    4.40\n",
       "Name: inflation_rate, dtype: float64"
      ]
     },
     "execution_count": 97,
     "metadata": {},
     "output_type": "execute_result"
    }
   ],
   "source": [
    "average_inflation_rate"
   ]
  },
  {
   "cell_type": "markdown",
   "id": "dc5a77b7",
   "metadata": {},
   "source": [
    "# Problem 4"
   ]
  },
  {
   "cell_type": "markdown",
   "id": "df684ef9",
   "metadata": {},
   "source": [
    "#### What is the median amount paid each year for all payment methods? "
   ]
  },
  {
   "cell_type": "markdown",
   "id": "3bbb5ae4",
   "metadata": {},
   "source": [
    "solution approach:\n",
    "\n",
    "approach is to group the rows on basis of payment year and payment date then we will find median of column amount paid"
   ]
  },
  {
   "cell_type": "code",
   "execution_count": 98,
   "id": "1dbeab09",
   "metadata": {},
   "outputs": [
    {
     "data": {
      "text/plain": [
       "client_id           int64\n",
       "payment_date       object\n",
       "amount_paid       float64\n",
       "payment_method     object\n",
       "dtype: object"
      ]
     },
     "execution_count": 98,
     "metadata": {},
     "output_type": "execute_result"
    }
   ],
   "source": [
    "payment_information.dtypes"
   ]
  },
  {
   "cell_type": "markdown",
   "id": "6549b770",
   "metadata": {},
   "source": [
    "since our payment_date column is in object format and we need to group rows on basis of year also, so we need to extract the year from the payment date by converting it to datetime format and extracting the date from it"
   ]
  },
  {
   "cell_type": "code",
   "execution_count": 99,
   "id": "52a1be70",
   "metadata": {},
   "outputs": [],
   "source": [
    "payment_information['payment_date']=pd.to_datetime(payment_information['payment_date'])"
   ]
  },
  {
   "cell_type": "code",
   "execution_count": 100,
   "id": "f26f6975",
   "metadata": {},
   "outputs": [],
   "source": [
    "payment_information['year']=payment_information['payment_date'].dt.year"
   ]
  },
  {
   "cell_type": "markdown",
   "id": "0ec4571a",
   "metadata": {},
   "source": [
    "group the rows on basis of year and payment information"
   ]
  },
  {
   "cell_type": "code",
   "execution_count": 101,
   "id": "523aa962",
   "metadata": {},
   "outputs": [],
   "source": [
    "payment_information_group=payment_information.groupby(['year','payment_method'])"
   ]
  },
  {
   "cell_type": "code",
   "execution_count": 102,
   "id": "c2f56e6d",
   "metadata": {},
   "outputs": [
    {
     "data": {
      "application/vnd.microsoft.datawrangler.viewer.v0+json": {
       "columns": [
        {
         "name": "index",
         "rawType": "int64",
         "type": "integer"
        },
        {
         "name": "year",
         "rawType": "int32",
         "type": "integer"
        },
        {
         "name": "payment_method",
         "rawType": "object",
         "type": "string"
        },
        {
         "name": "amount_paid",
         "rawType": "float64",
         "type": "float"
        }
       ],
       "conversionMethod": "pd.DataFrame",
       "ref": "e8315a59-0e5e-4337-b998-f585e9d27efd",
       "rows": [
        [
         "0",
         "2018",
         "Bank Transfer",
         "281.65"
        ],
        [
         "1",
         "2018",
         "Check",
         "216.6"
        ],
        [
         "2",
         "2018",
         "Credit Card",
         "229.15"
        ],
        [
         "3",
         "2019",
         "Bank Transfer",
         "184.2"
        ],
        [
         "4",
         "2019",
         "Check",
         "410.2"
        ],
        [
         "5",
         "2019",
         "Credit Card",
         "401.9"
        ],
        [
         "6",
         "2020",
         "Bank Transfer",
         "225.1"
        ],
        [
         "7",
         "2020",
         "Check",
         "413.1"
        ],
        [
         "8",
         "2020",
         "Credit Card",
         "285.25"
        ],
        [
         "9",
         "2021",
         "Bank Transfer",
         "255.3"
        ],
        [
         "10",
         "2021",
         "Check",
         "435.1"
        ],
        [
         "11",
         "2021",
         "Credit Card",
         "208.7"
        ],
        [
         "12",
         "2022",
         "Bank Transfer",
         "196.5"
        ],
        [
         "13",
         "2022",
         "Check",
         "275.5"
        ],
        [
         "14",
         "2022",
         "Credit Card",
         "326.2"
        ]
       ],
       "shape": {
        "columns": 3,
        "rows": 15
       }
      },
      "text/html": [
       "<div>\n",
       "<style scoped>\n",
       "    .dataframe tbody tr th:only-of-type {\n",
       "        vertical-align: middle;\n",
       "    }\n",
       "\n",
       "    .dataframe tbody tr th {\n",
       "        vertical-align: top;\n",
       "    }\n",
       "\n",
       "    .dataframe thead th {\n",
       "        text-align: right;\n",
       "    }\n",
       "</style>\n",
       "<table border=\"1\" class=\"dataframe\">\n",
       "  <thead>\n",
       "    <tr style=\"text-align: right;\">\n",
       "      <th></th>\n",
       "      <th>year</th>\n",
       "      <th>payment_method</th>\n",
       "      <th>amount_paid</th>\n",
       "    </tr>\n",
       "  </thead>\n",
       "  <tbody>\n",
       "    <tr>\n",
       "      <th>0</th>\n",
       "      <td>2018</td>\n",
       "      <td>Bank Transfer</td>\n",
       "      <td>281.65</td>\n",
       "    </tr>\n",
       "    <tr>\n",
       "      <th>1</th>\n",
       "      <td>2018</td>\n",
       "      <td>Check</td>\n",
       "      <td>216.60</td>\n",
       "    </tr>\n",
       "    <tr>\n",
       "      <th>2</th>\n",
       "      <td>2018</td>\n",
       "      <td>Credit Card</td>\n",
       "      <td>229.15</td>\n",
       "    </tr>\n",
       "    <tr>\n",
       "      <th>3</th>\n",
       "      <td>2019</td>\n",
       "      <td>Bank Transfer</td>\n",
       "      <td>184.20</td>\n",
       "    </tr>\n",
       "    <tr>\n",
       "      <th>4</th>\n",
       "      <td>2019</td>\n",
       "      <td>Check</td>\n",
       "      <td>410.20</td>\n",
       "    </tr>\n",
       "    <tr>\n",
       "      <th>5</th>\n",
       "      <td>2019</td>\n",
       "      <td>Credit Card</td>\n",
       "      <td>401.90</td>\n",
       "    </tr>\n",
       "    <tr>\n",
       "      <th>6</th>\n",
       "      <td>2020</td>\n",
       "      <td>Bank Transfer</td>\n",
       "      <td>225.10</td>\n",
       "    </tr>\n",
       "    <tr>\n",
       "      <th>7</th>\n",
       "      <td>2020</td>\n",
       "      <td>Check</td>\n",
       "      <td>413.10</td>\n",
       "    </tr>\n",
       "    <tr>\n",
       "      <th>8</th>\n",
       "      <td>2020</td>\n",
       "      <td>Credit Card</td>\n",
       "      <td>285.25</td>\n",
       "    </tr>\n",
       "    <tr>\n",
       "      <th>9</th>\n",
       "      <td>2021</td>\n",
       "      <td>Bank Transfer</td>\n",
       "      <td>255.30</td>\n",
       "    </tr>\n",
       "    <tr>\n",
       "      <th>10</th>\n",
       "      <td>2021</td>\n",
       "      <td>Check</td>\n",
       "      <td>435.10</td>\n",
       "    </tr>\n",
       "    <tr>\n",
       "      <th>11</th>\n",
       "      <td>2021</td>\n",
       "      <td>Credit Card</td>\n",
       "      <td>208.70</td>\n",
       "    </tr>\n",
       "    <tr>\n",
       "      <th>12</th>\n",
       "      <td>2022</td>\n",
       "      <td>Bank Transfer</td>\n",
       "      <td>196.50</td>\n",
       "    </tr>\n",
       "    <tr>\n",
       "      <th>13</th>\n",
       "      <td>2022</td>\n",
       "      <td>Check</td>\n",
       "      <td>275.50</td>\n",
       "    </tr>\n",
       "    <tr>\n",
       "      <th>14</th>\n",
       "      <td>2022</td>\n",
       "      <td>Credit Card</td>\n",
       "      <td>326.20</td>\n",
       "    </tr>\n",
       "  </tbody>\n",
       "</table>\n",
       "</div>"
      ],
      "text/plain": [
       "    year payment_method  amount_paid\n",
       "0   2018  Bank Transfer       281.65\n",
       "1   2018          Check       216.60\n",
       "2   2018    Credit Card       229.15\n",
       "3   2019  Bank Transfer       184.20\n",
       "4   2019          Check       410.20\n",
       "5   2019    Credit Card       401.90\n",
       "6   2020  Bank Transfer       225.10\n",
       "7   2020          Check       413.10\n",
       "8   2020    Credit Card       285.25\n",
       "9   2021  Bank Transfer       255.30\n",
       "10  2021          Check       435.10\n",
       "11  2021    Credit Card       208.70\n",
       "12  2022  Bank Transfer       196.50\n",
       "13  2022          Check       275.50\n",
       "14  2022    Credit Card       326.20"
      ]
     },
     "execution_count": 102,
     "metadata": {},
     "output_type": "execute_result"
    }
   ],
   "source": [
    "payment_information_group['amount_paid'].median().reset_index()"
   ]
  },
  {
   "cell_type": "markdown",
   "id": "1395b3e5",
   "metadata": {},
   "source": []
  },
  {
   "cell_type": "code",
   "execution_count": null,
   "id": "8ed0abfa",
   "metadata": {},
   "outputs": [],
   "source": []
  }
 ],
 "metadata": {
  "kernelspec": {
   "display_name": "Python 3",
   "language": "python",
   "name": "python3"
  },
  "language_info": {
   "codemirror_mode": {
    "name": "ipython",
    "version": 3
   },
   "file_extension": ".py",
   "mimetype": "text/x-python",
   "name": "python",
   "nbconvert_exporter": "python",
   "pygments_lexer": "ipython3",
   "version": "3.12.4"
  }
 },
 "nbformat": 4,
 "nbformat_minor": 5
}
